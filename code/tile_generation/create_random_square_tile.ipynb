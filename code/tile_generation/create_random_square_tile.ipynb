{
 "cells": [
  {
   "cell_type": "markdown",
   "id": "59b73dc2-18ec-4481-8a05-c8b9b93ebde9",
   "metadata": {
    "tags": []
   },
   "source": [
    "# Model 1"
   ]
  },
  {
   "cell_type": "markdown",
   "id": "27f9d460-777f-454f-8a0b-9f783d437dd7",
   "metadata": {
    "tags": []
   },
   "source": [
    "#### Install "
   ]
  },
  {
   "cell_type": "code",
   "execution_count": 5,
   "id": "b978a6ef-84e3-4840-a4d9-f4b1eace77a4",
   "metadata": {
    "tags": []
   },
   "outputs": [
    {
     "name": "stdout",
     "output_type": "stream",
     "text": [
      "Collecting ultralytics\n",
      "  Downloading ultralytics-8.1.19-py3-none-any.whl (716 kB)\n",
      "\u001b[2K     \u001b[90m━━━━━━━━━━━━━━━━━━━━━━━━━━━━━━━━━━━━━━\u001b[0m \u001b[32m716.2/716.2 kB\u001b[0m \u001b[31m19.1 MB/s\u001b[0m eta \u001b[36m0:00:00\u001b[0m00:01\u001b[0m\n",
      "\u001b[?25hRequirement already satisfied: matplotlib>=3.3.0 in /srv/conda/envs/notebook/lib/python3.11/site-packages (from ultralytics) (3.7.1)\n",
      "Collecting opencv-python>=4.6.0 (from ultralytics)\n",
      "  Using cached opencv_python-4.9.0.80-cp37-abi3-manylinux_2_17_x86_64.manylinux2014_x86_64.whl (62.2 MB)\n",
      "Requirement already satisfied: pillow>=7.1.2 in /srv/conda/envs/notebook/lib/python3.11/site-packages (from ultralytics) (9.5.0)\n",
      "Requirement already satisfied: pyyaml>=5.3.1 in /srv/conda/envs/notebook/lib/python3.11/site-packages (from ultralytics) (5.4.1)\n",
      "Requirement already satisfied: requests>=2.23.0 in /srv/conda/envs/notebook/lib/python3.11/site-packages (from ultralytics) (2.31.0)\n",
      "Requirement already satisfied: scipy>=1.4.1 in /srv/conda/envs/notebook/lib/python3.11/site-packages (from ultralytics) (1.10.1)\n",
      "Collecting torch>=1.8.0 (from ultralytics)\n",
      "  Using cached torch-2.2.1-cp311-cp311-manylinux1_x86_64.whl (755.6 MB)\n",
      "Collecting torchvision>=0.9.0 (from ultralytics)\n",
      "  Using cached torchvision-0.17.1-cp311-cp311-manylinux1_x86_64.whl (6.9 MB)\n",
      "Requirement already satisfied: tqdm>=4.64.0 in /srv/conda/envs/notebook/lib/python3.11/site-packages (from ultralytics) (4.65.0)\n",
      "Requirement already satisfied: psutil in /srv/conda/envs/notebook/lib/python3.11/site-packages (from ultralytics) (5.9.5)\n",
      "Collecting py-cpuinfo (from ultralytics)\n",
      "  Using cached py_cpuinfo-9.0.0-py3-none-any.whl (22 kB)\n",
      "Collecting thop>=0.1.1 (from ultralytics)\n",
      "  Using cached thop-0.1.1.post2209072238-py3-none-any.whl (15 kB)\n",
      "Requirement already satisfied: pandas>=1.1.4 in /srv/conda/envs/notebook/lib/python3.11/site-packages (from ultralytics) (2.0.2)\n",
      "Requirement already satisfied: seaborn>=0.11.0 in /srv/conda/envs/notebook/lib/python3.11/site-packages (from ultralytics) (0.12.2)\n",
      "Requirement already satisfied: contourpy>=1.0.1 in /srv/conda/envs/notebook/lib/python3.11/site-packages (from matplotlib>=3.3.0->ultralytics) (1.1.0)\n",
      "Requirement already satisfied: cycler>=0.10 in /srv/conda/envs/notebook/lib/python3.11/site-packages (from matplotlib>=3.3.0->ultralytics) (0.11.0)\n",
      "Requirement already satisfied: fonttools>=4.22.0 in /srv/conda/envs/notebook/lib/python3.11/site-packages (from matplotlib>=3.3.0->ultralytics) (4.40.0)\n",
      "Requirement already satisfied: kiwisolver>=1.0.1 in /srv/conda/envs/notebook/lib/python3.11/site-packages (from matplotlib>=3.3.0->ultralytics) (1.4.4)\n",
      "Requirement already satisfied: numpy>=1.20 in /srv/conda/envs/notebook/lib/python3.11/site-packages (from matplotlib>=3.3.0->ultralytics) (1.24.3)\n",
      "Requirement already satisfied: packaging>=20.0 in /srv/conda/envs/notebook/lib/python3.11/site-packages (from matplotlib>=3.3.0->ultralytics) (23.1)\n",
      "Requirement already satisfied: pyparsing>=2.3.1 in /srv/conda/envs/notebook/lib/python3.11/site-packages (from matplotlib>=3.3.0->ultralytics) (3.1.0)\n",
      "Requirement already satisfied: python-dateutil>=2.7 in /srv/conda/envs/notebook/lib/python3.11/site-packages (from matplotlib>=3.3.0->ultralytics) (2.8.2)\n",
      "Requirement already satisfied: pytz>=2020.1 in /srv/conda/envs/notebook/lib/python3.11/site-packages (from pandas>=1.1.4->ultralytics) (2023.3)\n",
      "Requirement already satisfied: tzdata>=2022.1 in /srv/conda/envs/notebook/lib/python3.11/site-packages (from pandas>=1.1.4->ultralytics) (2023.3)\n",
      "Requirement already satisfied: charset-normalizer<4,>=2 in /srv/conda/envs/notebook/lib/python3.11/site-packages (from requests>=2.23.0->ultralytics) (3.1.0)\n",
      "Requirement already satisfied: idna<4,>=2.5 in /srv/conda/envs/notebook/lib/python3.11/site-packages (from requests>=2.23.0->ultralytics) (3.4)\n",
      "Requirement already satisfied: urllib3<3,>=1.21.1 in /srv/conda/envs/notebook/lib/python3.11/site-packages (from requests>=2.23.0->ultralytics) (1.26.15)\n",
      "Requirement already satisfied: certifi>=2017.4.17 in /srv/conda/envs/notebook/lib/python3.11/site-packages (from requests>=2.23.0->ultralytics) (2023.5.7)\n",
      "Requirement already satisfied: filelock in /srv/conda/envs/notebook/lib/python3.11/site-packages (from torch>=1.8.0->ultralytics) (3.12.2)\n",
      "Collecting typing-extensions>=4.8.0 (from torch>=1.8.0->ultralytics)\n",
      "  Downloading typing_extensions-4.10.0-py3-none-any.whl (33 kB)\n",
      "Collecting sympy (from torch>=1.8.0->ultralytics)\n",
      "  Using cached sympy-1.12-py3-none-any.whl (5.7 MB)\n",
      "Requirement already satisfied: networkx in /srv/conda/envs/notebook/lib/python3.11/site-packages (from torch>=1.8.0->ultralytics) (3.1)\n",
      "Requirement already satisfied: jinja2 in /srv/conda/envs/notebook/lib/python3.11/site-packages (from torch>=1.8.0->ultralytics) (3.1.2)\n",
      "Requirement already satisfied: fsspec in /srv/conda/envs/notebook/lib/python3.11/site-packages (from torch>=1.8.0->ultralytics) (2023.6.0)\n",
      "Collecting nvidia-cuda-nvrtc-cu12==12.1.105 (from torch>=1.8.0->ultralytics)\n",
      "  Using cached nvidia_cuda_nvrtc_cu12-12.1.105-py3-none-manylinux1_x86_64.whl (23.7 MB)\n",
      "Collecting nvidia-cuda-runtime-cu12==12.1.105 (from torch>=1.8.0->ultralytics)\n",
      "  Using cached nvidia_cuda_runtime_cu12-12.1.105-py3-none-manylinux1_x86_64.whl (823 kB)\n",
      "Collecting nvidia-cuda-cupti-cu12==12.1.105 (from torch>=1.8.0->ultralytics)\n",
      "  Using cached nvidia_cuda_cupti_cu12-12.1.105-py3-none-manylinux1_x86_64.whl (14.1 MB)\n",
      "Collecting nvidia-cudnn-cu12==8.9.2.26 (from torch>=1.8.0->ultralytics)\n",
      "  Using cached nvidia_cudnn_cu12-8.9.2.26-py3-none-manylinux1_x86_64.whl (731.7 MB)\n",
      "Collecting nvidia-cublas-cu12==12.1.3.1 (from torch>=1.8.0->ultralytics)\n",
      "  Using cached nvidia_cublas_cu12-12.1.3.1-py3-none-manylinux1_x86_64.whl (410.6 MB)\n",
      "Collecting nvidia-cufft-cu12==11.0.2.54 (from torch>=1.8.0->ultralytics)\n",
      "  Using cached nvidia_cufft_cu12-11.0.2.54-py3-none-manylinux1_x86_64.whl (121.6 MB)\n",
      "Collecting nvidia-curand-cu12==10.3.2.106 (from torch>=1.8.0->ultralytics)\n",
      "  Using cached nvidia_curand_cu12-10.3.2.106-py3-none-manylinux1_x86_64.whl (56.5 MB)\n",
      "Collecting nvidia-cusolver-cu12==11.4.5.107 (from torch>=1.8.0->ultralytics)\n",
      "  Using cached nvidia_cusolver_cu12-11.4.5.107-py3-none-manylinux1_x86_64.whl (124.2 MB)\n",
      "Collecting nvidia-cusparse-cu12==12.1.0.106 (from torch>=1.8.0->ultralytics)\n",
      "  Using cached nvidia_cusparse_cu12-12.1.0.106-py3-none-manylinux1_x86_64.whl (196.0 MB)\n",
      "Collecting nvidia-nccl-cu12==2.19.3 (from torch>=1.8.0->ultralytics)\n",
      "  Using cached nvidia_nccl_cu12-2.19.3-py3-none-manylinux1_x86_64.whl (166.0 MB)\n",
      "Collecting nvidia-nvtx-cu12==12.1.105 (from torch>=1.8.0->ultralytics)\n",
      "  Using cached nvidia_nvtx_cu12-12.1.105-py3-none-manylinux1_x86_64.whl (99 kB)\n",
      "Collecting triton==2.2.0 (from torch>=1.8.0->ultralytics)\n",
      "  Using cached triton-2.2.0-cp311-cp311-manylinux_2_17_x86_64.manylinux2014_x86_64.whl (167.9 MB)\n",
      "Collecting nvidia-nvjitlink-cu12 (from nvidia-cusolver-cu12==11.4.5.107->torch>=1.8.0->ultralytics)\n",
      "  Using cached nvidia_nvjitlink_cu12-12.3.101-py3-none-manylinux1_x86_64.whl (20.5 MB)\n",
      "Requirement already satisfied: six>=1.5 in /srv/conda/envs/notebook/lib/python3.11/site-packages (from python-dateutil>=2.7->matplotlib>=3.3.0->ultralytics) (1.16.0)\n",
      "Requirement already satisfied: MarkupSafe>=2.0 in /srv/conda/envs/notebook/lib/python3.11/site-packages (from jinja2->torch>=1.8.0->ultralytics) (2.1.3)\n",
      "Collecting mpmath>=0.19 (from sympy->torch>=1.8.0->ultralytics)\n",
      "  Using cached mpmath-1.3.0-py3-none-any.whl (536 kB)\n",
      "Installing collected packages: py-cpuinfo, mpmath, typing-extensions, triton, sympy, opencv-python, nvidia-nvtx-cu12, nvidia-nvjitlink-cu12, nvidia-nccl-cu12, nvidia-curand-cu12, nvidia-cufft-cu12, nvidia-cuda-runtime-cu12, nvidia-cuda-nvrtc-cu12, nvidia-cuda-cupti-cu12, nvidia-cublas-cu12, nvidia-cusparse-cu12, nvidia-cudnn-cu12, nvidia-cusolver-cu12, torch, torchvision, thop, ultralytics\n",
      "  Attempting uninstall: typing-extensions\n",
      "    Found existing installation: typing_extensions 4.6.3\n",
      "    Uninstalling typing_extensions-4.6.3:\n",
      "      Successfully uninstalled typing_extensions-4.6.3\n",
      "\u001b[31mERROR: pip's dependency resolver does not currently take into account all the packages that are installed. This behaviour is the source of the following dependency conflicts.\n",
      "xmip 0.7.1 requires xgcm<0.7.0, but you have xgcm 0.8.1 which is incompatible.\u001b[0m\u001b[31m\n",
      "\u001b[0mSuccessfully installed mpmath-1.3.0 nvidia-cublas-cu12-12.1.3.1 nvidia-cuda-cupti-cu12-12.1.105 nvidia-cuda-nvrtc-cu12-12.1.105 nvidia-cuda-runtime-cu12-12.1.105 nvidia-cudnn-cu12-8.9.2.26 nvidia-cufft-cu12-11.0.2.54 nvidia-curand-cu12-10.3.2.106 nvidia-cusolver-cu12-11.4.5.107 nvidia-cusparse-cu12-12.1.0.106 nvidia-nccl-cu12-2.19.3 nvidia-nvjitlink-cu12-12.3.101 nvidia-nvtx-cu12-12.1.105 opencv-python-4.9.0.80 py-cpuinfo-9.0.0 sympy-1.12 thop-0.1.1.post2209072238 torch-2.2.1 torchvision-0.17.1 triton-2.2.0 typing-extensions-4.10.0 ultralytics-8.1.19\n",
      "Note: you may need to restart the kernel to use updated packages.\n",
      "Collecting opencv-python-headless\n",
      "  Using cached opencv_python_headless-4.9.0.80-cp37-abi3-manylinux_2_17_x86_64.manylinux2014_x86_64.whl (49.6 MB)\n",
      "Requirement already satisfied: numpy>=1.21.2 in /srv/conda/envs/notebook/lib/python3.11/site-packages (from opencv-python-headless) (1.24.3)\n",
      "Installing collected packages: opencv-python-headless\n",
      "Successfully installed opencv-python-headless-4.9.0.80\n",
      "Collecting labelme2yolo\n",
      "  Downloading labelme2yolo-0.1.5-py3-none-any.whl (8.7 kB)\n",
      "Requirement already satisfied: numpy<1.27.0,>=1.23.1 in /srv/conda/envs/notebook/lib/python3.11/site-packages (from labelme2yolo) (1.24.3)\n",
      "Requirement already satisfied: opencv-python>=4.1.2 in /srv/conda/envs/notebook/lib/python3.11/site-packages (from labelme2yolo) (4.9.0.80)\n",
      "Requirement already satisfied: pillow<10.3,>=9.2 in /srv/conda/envs/notebook/lib/python3.11/site-packages (from labelme2yolo) (9.5.0)\n",
      "Requirement already satisfied: tqdm in /srv/conda/envs/notebook/lib/python3.11/site-packages (from labelme2yolo) (4.65.0)\n",
      "Installing collected packages: labelme2yolo\n",
      "Successfully installed labelme2yolo-0.1.5\n"
     ]
    }
   ],
   "source": [
    "%pip install ultralytics\n",
    "!pip install opencv-python-headless\n",
    "!pip install labelme2yolo "
   ]
  },
  {
   "cell_type": "markdown",
   "id": "154baa13-7d00-462e-872e-e45755681605",
   "metadata": {
    "tags": []
   },
   "source": [
    "#### Import Libraries "
   ]
  },
  {
   "cell_type": "code",
   "execution_count": 1,
   "id": "a35c1c7c-30d1-4672-ac4b-ac7dfc5ce463",
   "metadata": {
    "tags": []
   },
   "outputs": [],
   "source": [
    "import warnings\n",
    "warnings.filterwarnings('ignore')\n",
    "\n",
    "# GeoTiff Images\n",
    "import rasterio \n",
    "from osgeo import gdal\n",
    "\n",
    "# Visualisation\n",
    "from matplotlib import pyplot as plt\n",
    "import matplotlib.image as img\n",
    "from matplotlib.pyplot import figure\n",
    "from PIL import Image \n",
    "\n",
    "# Model Building\n",
    "import ultralytics\n",
    "from ultralytics import YOLO\n",
    "import labelme2yolo \n",
    "\n",
    "# Azure \n",
    "from azure.storage.blob import BlobServiceClient \n",
    "\n",
    "# Others\n",
    "import os\n",
    "import shutil\n",
    "import zipfile \n",
    "import re \n",
    "import subprocess\n",
    "import shutil\n",
    "\n",
    "%matplotlib inline "
   ]
  },
  {
   "cell_type": "code",
   "execution_count": 2,
   "id": "593a66ea-1cbb-477d-9531-d20be0cf9923",
   "metadata": {
    "tags": []
   },
   "outputs": [
    {
     "name": "stdout",
     "output_type": "stream",
     "text": [
      "--2024-02-24 15:01:10--  https://challenge.ey.com/api/v1/storage/admin-files/Post_Event_San_Juan.tif\n",
      "Resolving challenge.ey.com (challenge.ey.com)... 52.236.158.32\n",
      "Connecting to challenge.ey.com (challenge.ey.com)|52.236.158.32|:443... connected.\n",
      "HTTP request sent, awaiting response... 200 OK\n",
      "Length: 1310494499 (1.2G) [application/octet-stream]\n",
      "Saving to: ‘Post_Event_San_Juan.tif’\n",
      "\n",
      "Post_Event_San_Juan 100%[===================>]   1.22G  44.6MB/s    in 27s     \n",
      "\n",
      "2024-02-24 15:01:47 (47.1 MB/s) - ‘Post_Event_San_Juan.tif’ saved [1310494499/1310494499]\n",
      "\n",
      "--2024-02-24 15:01:51--  https://challenge.ey.com/api/v1/storage/admin-files/Pre_Event_San_Juan.tif\n",
      "Resolving challenge.ey.com (challenge.ey.com)... 52.236.158.32\n",
      "Connecting to challenge.ey.com (challenge.ey.com)|52.236.158.32|:443... connected.\n",
      "HTTP request sent, awaiting response... 200 OK\n",
      "Length: 1016993213 (970M) [application/octet-stream]\n",
      "Saving to: ‘Pre_Event_San_Juan.tif’\n",
      "\n",
      "Pre_Event_San_Juan. 100%[===================>] 969.88M  68.1MB/s    in 14s     \n",
      "\n",
      "2024-02-24 15:02:12 (70.1 MB/s) - ‘Pre_Event_San_Juan.tif’ saved [1016993213/1016993213]\n",
      "\n"
     ]
    }
   ],
   "source": [
    "# # Import images if not done already \n",
    "# !wget https://challenge.ey.com/api/v1/storage/admin-files/Post_Event_San_Juan.tif -O Post_Event_San_Juan.tif \n",
    "# !wget https://challenge.ey.com/api/v1/storage/admin-files/Pre_Event_San_Juan.tif -O Pre_Event_San_Juan.tif "
   ]
  },
  {
   "cell_type": "code",
   "execution_count": 13,
   "id": "50af8645-7651-4c09-9c1d-020a331b77f0",
   "metadata": {
    "tags": []
   },
   "outputs": [
    {
     "name": "stdout",
     "output_type": "stream",
     "text": [
      "Random tile generation completed for both pre-event and post-event images.\n"
     ]
    }
   ],
   "source": [
    "import rasterio\n",
    "from rasterio import windows\n",
    "import os\n",
    "import numpy as np\n",
    "import random\n",
    "\n",
    "def generate_random_tiles(src_path, dst_folder, random_windows, label):\n",
    "    \"\"\"\n",
    "    Generate tiles from a GeoTIFF image using predefined windows and label them accordingly.\n",
    "    \"\"\"\n",
    "    with rasterio.open(src_path) as src:\n",
    "        out_meta = src.meta.copy()\n",
    "\n",
    "        for count, window in enumerate(random_windows):\n",
    "            img = src.read(window=window)\n",
    "            if np.any(img):\n",
    "                out_meta.update({\n",
    "                    \"driver\": \"GTiff\",\n",
    "                    \"height\": window.height,\n",
    "                    \"width\": window.width,\n",
    "                    \"transform\": rasterio.windows.transform(window, src.transform)\n",
    "                })\n",
    "                # Incorporate the label into the filename\n",
    "                out_path = os.path.join(dst_folder, f\"{label}_random_tile_{count}.tif\")\n",
    "                with rasterio.open(out_path, 'w', **out_meta) as out_dst:\n",
    "                    out_dst.write(img)\n",
    "\n",
    "def create_random_windows(width, height, tile_width, tile_height, max_tiles):\n",
    "    \"\"\"\n",
    "    Generate a list of random windows for tile extraction.\n",
    "    \"\"\"\n",
    "    random_windows = []\n",
    "    for _ in range(max_tiles):\n",
    "        rand_x = random.randint(0, width - tile_width)\n",
    "        rand_y = random.randint(0, height - tile_height)\n",
    "        window = windows.Window(rand_x, rand_y, tile_width, tile_height)\n",
    "        random_windows.append(window)\n",
    "    return random_windows\n",
    "\n",
    "def main(pre_event_path, post_event_path, tile_width, tile_height, max_tiles=10):\n",
    "    \"\"\"\n",
    "    Main function to generate random tiles from aligned pre-event and post-event images.\n",
    "    \"\"\"\n",
    "    pre_event_dir = 'generated_data/Pre_Event_Tiles'\n",
    "    post_event_dir = 'generated_data/Post_Event_Tiles'\n",
    "    \n",
    "    os.makedirs(pre_event_dir, exist_ok=True)\n",
    "    os.makedirs(post_event_dir, exist_ok=True)\n",
    "\n",
    "    # Open one of the images to determine dimensions for window generation\n",
    "    with rasterio.open(pre_event_path) as src:\n",
    "        width, height = src.width, src.height\n",
    "    \n",
    "    # Generate random windows\n",
    "    random_windows = create_random_windows(width, height, tile_width, tile_height, max_tiles)\n",
    "\n",
    "    # Generate tiles using the same set of random windows for both images, with appropriate labeling\n",
    "    generate_random_tiles(pre_event_path, pre_event_dir, random_windows, \"pre\")\n",
    "    generate_random_tiles(post_event_path, post_event_dir, random_windows, \"post\")\n",
    "\n",
    "    print(\"Random tile generation completed for both pre-event and post-event images.\")\n",
    "\n",
    "if __name__ == \"__main__\": \n",
    "\n",
    "    pre_event_path = 'given/Pre_Event_San_Juan.tif'\n",
    "    post_event_path = 'given/Post_Event_San_Juan.tif'\n",
    "    tile_width, tile_height = 512, 512  # Adjust as needed\n",
    "\n",
    "    main(pre_event_path, post_event_path, tile_width, tile_height)\n"
   ]
  },
  {
   "cell_type": "code",
   "execution_count": 12,
   "id": "e1711d7c-665c-445e-9556-90a9185c95ae",
   "metadata": {},
   "outputs": [
    {
     "name": "stdout",
     "output_type": "stream",
     "text": [
      "Conversion completed. JPEG images are saved in generated_data/Pre_Event_Tiles_Overlay_JPEG.\n",
      "Conversion completed. JPEG images are saved in generated_data/Post_Event_Tiles_Overlay_JPEG.\n"
     ]
    }
   ],
   "source": [
    "from PIL import Image\n",
    "import os\n",
    "\n",
    "def convert_tiff_to_jpeg(input_folder, output_folder):\n",
    "    \"\"\"\n",
    "    Convert all TIFF images in the input_folder to JPEG format and save them in the output_folder.\n",
    "    \"\"\"\n",
    "    # Create the output folder if it doesn't exist\n",
    "    os.makedirs(output_folder, exist_ok=True)\n",
    "    \n",
    "    # Iterate through all TIFF files in the input folder\n",
    "    for filename in os.listdir(input_folder):\n",
    "        if filename.endswith('.tif') or filename.endswith('.tiff'):\n",
    "            # Construct the full file path\n",
    "            input_path = os.path.join(input_folder, filename)\n",
    "            # Define the output file path with a .jpg extension\n",
    "            output_path = os.path.join(output_folder, os.path.splitext(filename)[0] + '.jpg')\n",
    "            \n",
    "            # Open the TIFF image, convert to RGB (in case it's not), and save as JPEG\n",
    "            with Image.open(input_path) as img:\n",
    "                rgb_img = img.convert('RGB')\n",
    "                rgb_img.save(output_path, 'JPEG')\n",
    "    \n",
    "    print(f\"Conversion completed. JPEG images are saved in {output_folder}.\")\n",
    "\n",
    "# Repeat for post-event tiles if necessary\n",
    "input_folder_post = 'generated_data/Post_Event_Tiles_Overlay'  # Adjust to your actual input folder path\n",
    "output_folder_post = 'generated_data/Post_Event_Tiles_Overlay_JPEG'  # Adjust to your desired output folder path\n",
    "convert_tiff_to_jpeg(input_folder_post, output_folder_post)\n"
   ]
  },
  {
   "cell_type": "code",
   "execution_count": 14,
   "id": "9db37210-ab04-4449-983d-066117ccdbae",
   "metadata": {},
   "outputs": [
    {
     "name": "stdout",
     "output_type": "stream",
     "text": [
      "All tiles have been cropped to square dimensions and saved to the destination folder.\n",
      "All tiles have been cropped to square dimensions and saved to the destination folder.\n"
     ]
    }
   ],
   "source": [
    "import rasterio\n",
    "from rasterio.windows import Window\n",
    "import os\n",
    "\n",
    "def crop_tiles_to_square(src_folder, dst_folder):\n",
    "    \"\"\"\n",
    "    Crop all TIFF tiles in the source folder to square dimensions, maximizing the size of the image,\n",
    "    and save them to the destination folder.\n",
    "    \"\"\"\n",
    "    os.makedirs(dst_folder, exist_ok=True)  # Create destination folder if it doesn't exist\n",
    "\n",
    "    for tile_filename in os.listdir(src_folder):\n",
    "        if tile_filename.endswith('.tif') or tile_filename.endswith('.tiff'):\n",
    "            src_path = os.path.join(src_folder, tile_filename)\n",
    "            dst_path = os.path.join(dst_folder, tile_filename)\n",
    "\n",
    "            with rasterio.open(src_path) as src:\n",
    "                # Determine the minimum dimension to make the image square\n",
    "                min_dim = min(src.width, src.height)\n",
    "                # Calculate offsets for centering the crop\n",
    "                off_x = (src.width - min_dim) // 2\n",
    "                off_y = (src.height - min_dim) // 2\n",
    "\n",
    "                # Define the window to crop the square area\n",
    "                window = Window(off_x, off_y, min_dim, min_dim)\n",
    "                window_transform = src.window_transform(window)\n",
    "\n",
    "                # Read the data from the window\n",
    "                data = src.read(window=window)\n",
    "\n",
    "                # Update metadata for the output image\n",
    "                out_meta = src.meta.copy()\n",
    "                out_meta.update({\n",
    "                    \"driver\": \"GTiff\",\n",
    "                    \"height\": min_dim,\n",
    "                    \"width\": min_dim,\n",
    "                    \"transform\": window_transform\n",
    "                })\n",
    "\n",
    "                # Write the cropped square image\n",
    "                with rasterio.open(dst_path, 'w', **out_meta) as dst:\n",
    "                    dst.write(data)\n",
    "    \n",
    "    print(\"All tiles have been cropped to square dimensions and saved to the destination folder.\")\n",
    "\n",
    "# Example usage\n",
    "src_folder = 'generated_data/Pre_Event_Tiles'  # Adjust to your actual source directory of tiles\n",
    "dst_folder = 'generated_data/Pre_Event_Tiles_Square'  # Desired destination directory for square tiles\n",
    "crop_tiles_to_square(src_folder, dst_folder)\n",
    "\n",
    "# Repeat for post-event tiles if necessary\n",
    "src_folder_post = 'generated_data/Post_Event_Tiles'  # Adjust to your actual source directory of tiles\n",
    "dst_folder_post = 'generated_data/Post_Event_Tiles_Square'  # Desired destination directory for square tiles\n",
    "crop_tiles_to_square(src_folder_post, dst_folder_post)\n"
   ]
  }
 ],
 "metadata": {
  "kernelspec": {
   "display_name": "Python 3 (ipykernel)",
   "language": "python",
   "name": "python3"
  },
  "language_info": {
   "codemirror_mode": {
    "name": "ipython",
    "version": 3
   },
   "file_extension": ".py",
   "mimetype": "text/x-python",
   "name": "python",
   "nbconvert_exporter": "python",
   "pygments_lexer": "ipython3",
   "version": "3.11.4"
  }
 },
 "nbformat": 4,
 "nbformat_minor": 5
}
